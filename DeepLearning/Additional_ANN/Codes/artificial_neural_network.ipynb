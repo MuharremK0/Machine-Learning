{
 "nbformat": 4,
 "nbformat_minor": 0,
 "metadata": {
  "colab": {
   "name": "Artificial Neural Network",
   "provenance": [],
   "collapsed_sections": [],
   "toc_visible": true
  },
  "kernelspec": {
   "name": "python3",
   "language": "python",
   "display_name": "Python 3 (ipykernel)"
  }
 },
 "cells": [
  {
   "cell_type": "markdown",
   "metadata": {
    "id": "3cbb7fRy-eyr",
    "colab_type": "text"
   },
   "source": [
    "# Artificial Neural Network"
   ]
  },
  {
   "cell_type": "markdown",
   "metadata": {
    "id": "8sNDnxE2-pwE",
    "colab_type": "text"
   },
   "source": [
    "### Importing the libraries"
   ]
  },
  {
   "cell_type": "code",
   "execution_count": 1,
   "outputs": [
    {
     "name": "stderr",
     "output_type": "stream",
     "text": [
      "C:\\Users\\PC\\anaconda3\\lib\\site-packages\\scipy\\__init__.py:155: UserWarning: A NumPy version >=1.18.5 and <1.25.0 is required for this version of SciPy (detected version 1.26.3\n",
      "  warnings.warn(f\"A NumPy version >={np_minversion} and <{np_maxversion}\"\n"
     ]
    },
    {
     "name": "stdout",
     "output_type": "stream",
     "text": [
      "WARNING:tensorflow:From C:\\Users\\PC\\anaconda3\\lib\\site-packages\\keras\\src\\losses.py:2976: The name tf.losses.sparse_softmax_cross_entropy is deprecated. Please use tf.compat.v1.losses.sparse_softmax_cross_entropy instead.\n"
     ]
    }
   ],
   "source": [
    "import numpy as np\n",
    "import pandas as pd\n",
    "import tensorflow as tf"
   ],
   "metadata": {
    "collapsed": false,
    "ExecuteTime": {
     "end_time": "2024-01-28T15:33:23.808296700Z",
     "start_time": "2024-01-28T15:33:17.089120100Z"
    }
   }
  },
  {
   "cell_type": "code",
   "execution_count": 2,
   "outputs": [
    {
     "data": {
      "text/plain": "'2.15.0'"
     },
     "execution_count": 2,
     "metadata": {},
     "output_type": "execute_result"
    }
   ],
   "source": [
    "tf.__version__"
   ],
   "metadata": {
    "collapsed": false,
    "ExecuteTime": {
     "end_time": "2024-01-28T15:33:25.098142600Z",
     "start_time": "2024-01-28T15:33:25.018110100Z"
    }
   }
  },
  {
   "cell_type": "markdown",
   "metadata": {
    "id": "AG3FQEch-yuA",
    "colab_type": "text"
   },
   "source": [
    "## Part 1 - Data Preprocessing"
   ]
  },
  {
   "cell_type": "markdown",
   "metadata": {
    "id": "-4zq8Mza_D9O",
    "colab_type": "text"
   },
   "source": [
    "### Importing the dataset"
   ]
  },
  {
   "cell_type": "code",
   "execution_count": 6,
   "outputs": [],
   "source": [
    "dataset=pd.read_excel(\"D:\\My Projects\\Machine-Learning\\Machine-Learning\\DeepLearning\\Additional_ANN\\Dataset\\Folds5x2_pp.xlsx\")\n",
    "X=dataset.iloc[:, :-1].values\n",
    "y=dataset.iloc[:,-1].values"
   ],
   "metadata": {
    "collapsed": false,
    "ExecuteTime": {
     "end_time": "2024-01-28T15:48:09.225343500Z",
     "start_time": "2024-01-28T15:48:08.022275600Z"
    }
   }
  },
  {
   "cell_type": "code",
   "execution_count": 7,
   "outputs": [
    {
     "name": "stdout",
     "output_type": "stream",
     "text": [
      "[[  14.96   41.76 1024.07   73.17]\n",
      " [  25.18   62.96 1020.04   59.08]\n",
      " [   5.11   39.4  1012.16   92.14]\n",
      " ...\n",
      " [  31.32   74.33 1012.92   36.48]\n",
      " [  24.48   69.45 1013.86   62.39]\n",
      " [  21.6    62.52 1017.23   67.87]]\n",
      "[463.26 444.37 488.56 ... 429.57 435.74 453.28]\n"
     ]
    }
   ],
   "source": [
    "print(X)\n",
    "print(y)"
   ],
   "metadata": {
    "collapsed": false,
    "ExecuteTime": {
     "end_time": "2024-01-28T15:48:10.817667600Z",
     "start_time": "2024-01-28T15:48:10.802078600Z"
    }
   }
  },
  {
   "cell_type": "markdown",
   "metadata": {
    "id": "VC6omXel_Up0",
    "colab_type": "text"
   },
   "source": [
    "### Splitting the dataset into the Training set and Test set"
   ]
  },
  {
   "cell_type": "code",
   "execution_count": 8,
   "outputs": [],
   "source": [
    "from sklearn.model_selection import train_test_split\n",
    "X_train,X_test,y_train,y_test=train_test_split(X,y,test_size=0.2,random_state=0)"
   ],
   "metadata": {
    "collapsed": false,
    "ExecuteTime": {
     "end_time": "2024-01-28T15:53:43.759778600Z",
     "start_time": "2024-01-28T15:53:42.914435100Z"
    }
   }
  },
  {
   "cell_type": "markdown",
   "metadata": {
    "id": "_mSLlAT9_eyI",
    "colab_type": "text"
   },
   "source": [
    "## Part 2 - Building the ANN"
   ]
  },
  {
   "cell_type": "markdown",
   "metadata": {
    "id": "CsBULd_f_wLY",
    "colab_type": "text"
   },
   "source": [
    "### Initializing the ANN"
   ]
  },
  {
   "cell_type": "code",
   "execution_count": 9,
   "outputs": [
    {
     "name": "stdout",
     "output_type": "stream",
     "text": [
      "WARNING:tensorflow:From C:\\Users\\PC\\anaconda3\\lib\\site-packages\\keras\\src\\backend.py:873: The name tf.get_default_graph is deprecated. Please use tf.compat.v1.get_default_graph instead.\n"
     ]
    }
   ],
   "source": [
    "ann=tf.keras.models.Sequential()"
   ],
   "metadata": {
    "collapsed": false,
    "ExecuteTime": {
     "end_time": "2024-01-28T17:18:47.694997200Z",
     "start_time": "2024-01-28T17:18:46.821978200Z"
    }
   }
  },
  {
   "cell_type": "markdown",
   "metadata": {
    "id": "iitAFJS_ABUn",
    "colab_type": "text"
   },
   "source": [
    "### Adding the input layer and the first hidden layer"
   ]
  },
  {
   "cell_type": "code",
   "execution_count": 10,
   "outputs": [],
   "source": [
    "ann.add(tf.keras.layers.Dense(units=6,activation='relu'))"
   ],
   "metadata": {
    "collapsed": false,
    "ExecuteTime": {
     "end_time": "2024-01-28T17:37:12.932943500Z",
     "start_time": "2024-01-28T17:37:12.913209900Z"
    }
   }
  },
  {
   "cell_type": "markdown",
   "metadata": {
    "id": "-lb4kK_wAKbs",
    "colab_type": "text"
   },
   "source": [
    "### Adding the second hidden layer"
   ]
  },
  {
   "cell_type": "code",
   "execution_count": 11,
   "outputs": [],
   "source": [
    "ann.add(tf.keras.layers.Dense(units=6,activation='relu'))"
   ],
   "metadata": {
    "collapsed": false,
    "ExecuteTime": {
     "end_time": "2024-01-28T17:37:14.876013900Z",
     "start_time": "2024-01-28T17:37:14.867921600Z"
    }
   }
  },
  {
   "cell_type": "markdown",
   "metadata": {
    "id": "jwMOmKb3AdBY",
    "colab_type": "text"
   },
   "source": [
    "### Adding the output layer"
   ]
  },
  {
   "cell_type": "code",
   "execution_count": 12,
   "outputs": [],
   "source": [
    "ann.add(tf.keras.layers.Dense(units=1))"
   ],
   "metadata": {
    "collapsed": false,
    "ExecuteTime": {
     "end_time": "2024-01-28T17:44:53.061063800Z",
     "start_time": "2024-01-28T17:44:53.050560700Z"
    }
   }
  },
  {
   "cell_type": "markdown",
   "metadata": {
    "id": "fq7e4fF6A1yy",
    "colab_type": "text"
   },
   "source": [
    "## Part 3 - Training the ANN"
   ]
  },
  {
   "cell_type": "markdown",
   "metadata": {
    "id": "qDeylAs2An25",
    "colab_type": "text"
   },
   "source": [
    "### Compiling the ANN"
   ]
  },
  {
   "cell_type": "code",
   "execution_count": 13,
   "outputs": [
    {
     "name": "stdout",
     "output_type": "stream",
     "text": [
      "WARNING:tensorflow:From C:\\Users\\PC\\anaconda3\\lib\\site-packages\\keras\\src\\optimizers\\__init__.py:309: The name tf.train.Optimizer is deprecated. Please use tf.compat.v1.train.Optimizer instead.\n"
     ]
    }
   ],
   "source": [
    "ann.compile(optimizer='adam',loss='mean_squared_error')"
   ],
   "metadata": {
    "collapsed": false,
    "ExecuteTime": {
     "end_time": "2024-01-28T17:49:28.075504500Z",
     "start_time": "2024-01-28T17:49:27.960339100Z"
    }
   }
  },
  {
   "cell_type": "markdown",
   "metadata": {
    "id": "YjVuiybYOo7r",
    "colab_type": "text"
   },
   "source": [
    "### Training the ANN model on the Training set"
   ]
  },
  {
   "cell_type": "code",
   "execution_count": 14,
   "outputs": [
    {
     "name": "stdout",
     "output_type": "stream",
     "text": [
      "Epoch 1/100\n",
      "WARNING:tensorflow:From C:\\Users\\PC\\anaconda3\\lib\\site-packages\\keras\\src\\utils\\tf_utils.py:492: The name tf.ragged.RaggedTensorValue is deprecated. Please use tf.compat.v1.ragged.RaggedTensorValue instead.\n",
      "240/240 [==============================] - 1s 1ms/step - loss: 204.5004\n",
      "Epoch 2/100\n",
      "240/240 [==============================] - 0s 1ms/step - loss: 117.5532\n",
      "Epoch 3/100\n",
      "240/240 [==============================] - 0s 1ms/step - loss: 76.1754\n",
      "Epoch 4/100\n",
      "240/240 [==============================] - 0s 2ms/step - loss: 55.9198\n",
      "Epoch 5/100\n",
      "240/240 [==============================] - 0s 2ms/step - loss: 45.4044\n",
      "Epoch 6/100\n",
      "240/240 [==============================] - 0s 1ms/step - loss: 39.5199\n",
      "Epoch 7/100\n",
      "240/240 [==============================] - 0s 1ms/step - loss: 36.8817\n",
      "Epoch 8/100\n",
      "240/240 [==============================] - 0s 1ms/step - loss: 34.6788\n",
      "Epoch 9/100\n",
      "240/240 [==============================] - 0s 1ms/step - loss: 32.4778\n",
      "Epoch 10/100\n",
      "240/240 [==============================] - 0s 1ms/step - loss: 29.0798\n",
      "Epoch 11/100\n",
      "240/240 [==============================] - 0s 1ms/step - loss: 28.8940\n",
      "Epoch 12/100\n",
      "240/240 [==============================] - 0s 1ms/step - loss: 27.4255\n",
      "Epoch 13/100\n",
      "240/240 [==============================] - 0s 1ms/step - loss: 27.0621\n",
      "Epoch 14/100\n",
      "240/240 [==============================] - 0s 1ms/step - loss: 26.9508\n",
      "Epoch 15/100\n",
      "240/240 [==============================] - 0s 1ms/step - loss: 26.4086\n",
      "Epoch 16/100\n",
      "240/240 [==============================] - 1s 3ms/step - loss: 25.8773\n",
      "Epoch 17/100\n",
      "240/240 [==============================] - 0s 1ms/step - loss: 26.1543\n",
      "Epoch 18/100\n",
      "240/240 [==============================] - 0s 1ms/step - loss: 25.7616\n",
      "Epoch 19/100\n",
      "240/240 [==============================] - 0s 1ms/step - loss: 25.5702\n",
      "Epoch 20/100\n",
      "240/240 [==============================] - 0s 1ms/step - loss: 24.7497\n",
      "Epoch 21/100\n",
      "240/240 [==============================] - 0s 1ms/step - loss: 26.2115\n",
      "Epoch 22/100\n",
      "240/240 [==============================] - 0s 1ms/step - loss: 25.2195\n",
      "Epoch 23/100\n",
      "240/240 [==============================] - 0s 1ms/step - loss: 24.8086\n",
      "Epoch 24/100\n",
      "240/240 [==============================] - 0s 1ms/step - loss: 24.8674\n",
      "Epoch 25/100\n",
      "240/240 [==============================] - 0s 1ms/step - loss: 24.8723\n",
      "Epoch 26/100\n",
      "240/240 [==============================] - 0s 1ms/step - loss: 24.9509\n",
      "Epoch 27/100\n",
      "240/240 [==============================] - 0s 1ms/step - loss: 24.7043\n",
      "Epoch 28/100\n",
      "240/240 [==============================] - 0s 1ms/step - loss: 24.2692\n",
      "Epoch 29/100\n",
      "240/240 [==============================] - 0s 1ms/step - loss: 25.2844\n",
      "Epoch 30/100\n",
      "240/240 [==============================] - 0s 1ms/step - loss: 24.4196\n",
      "Epoch 31/100\n",
      "240/240 [==============================] - 0s 1ms/step - loss: 24.9060\n",
      "Epoch 32/100\n",
      "240/240 [==============================] - 0s 1ms/step - loss: 24.4993\n",
      "Epoch 33/100\n",
      "240/240 [==============================] - 0s 1ms/step - loss: 24.2651\n",
      "Epoch 34/100\n",
      "240/240 [==============================] - 0s 1ms/step - loss: 24.3832\n",
      "Epoch 35/100\n",
      "240/240 [==============================] - 0s 1ms/step - loss: 24.2519\n",
      "Epoch 36/100\n",
      "240/240 [==============================] - 0s 1ms/step - loss: 24.4124\n",
      "Epoch 37/100\n",
      "240/240 [==============================] - 0s 1ms/step - loss: 24.4041\n",
      "Epoch 38/100\n",
      "240/240 [==============================] - 0s 1ms/step - loss: 24.5438\n",
      "Epoch 39/100\n",
      "240/240 [==============================] - 0s 1ms/step - loss: 24.6222\n",
      "Epoch 40/100\n",
      "240/240 [==============================] - 0s 1ms/step - loss: 24.1934\n",
      "Epoch 41/100\n",
      "240/240 [==============================] - 0s 1ms/step - loss: 24.4581\n",
      "Epoch 42/100\n",
      "240/240 [==============================] - 0s 1ms/step - loss: 24.0632\n",
      "Epoch 43/100\n",
      "240/240 [==============================] - 0s 1ms/step - loss: 24.6777\n",
      "Epoch 44/100\n",
      "240/240 [==============================] - 0s 1ms/step - loss: 24.3000\n",
      "Epoch 45/100\n",
      "240/240 [==============================] - 0s 1ms/step - loss: 25.1124\n",
      "Epoch 46/100\n",
      "240/240 [==============================] - 0s 2ms/step - loss: 24.0604\n",
      "Epoch 47/100\n",
      "240/240 [==============================] - 0s 1ms/step - loss: 24.2193\n",
      "Epoch 48/100\n",
      "240/240 [==============================] - 0s 1ms/step - loss: 24.3804\n",
      "Epoch 49/100\n",
      "240/240 [==============================] - 0s 1ms/step - loss: 24.2726\n",
      "Epoch 50/100\n",
      "240/240 [==============================] - 0s 1ms/step - loss: 23.8279\n",
      "Epoch 51/100\n",
      "240/240 [==============================] - 0s 1ms/step - loss: 24.2878\n",
      "Epoch 52/100\n",
      "240/240 [==============================] - 0s 1ms/step - loss: 24.7845\n",
      "Epoch 53/100\n",
      "240/240 [==============================] - 0s 1ms/step - loss: 24.7897\n",
      "Epoch 54/100\n",
      "240/240 [==============================] - 0s 1ms/step - loss: 24.3622\n",
      "Epoch 55/100\n",
      "240/240 [==============================] - 0s 1ms/step - loss: 25.0421\n",
      "Epoch 56/100\n",
      "240/240 [==============================] - 0s 1ms/step - loss: 24.5942\n",
      "Epoch 57/100\n",
      "240/240 [==============================] - 0s 1ms/step - loss: 24.2884\n",
      "Epoch 58/100\n",
      "240/240 [==============================] - 0s 1ms/step - loss: 23.9456\n",
      "Epoch 59/100\n",
      "240/240 [==============================] - 0s 1ms/step - loss: 24.1147\n",
      "Epoch 60/100\n",
      "240/240 [==============================] - 0s 2ms/step - loss: 24.0308\n",
      "Epoch 61/100\n",
      "240/240 [==============================] - 0s 2ms/step - loss: 24.4324\n",
      "Epoch 62/100\n",
      "240/240 [==============================] - 0s 2ms/step - loss: 24.2709\n",
      "Epoch 63/100\n",
      "240/240 [==============================] - 0s 1ms/step - loss: 24.7621\n",
      "Epoch 64/100\n",
      "240/240 [==============================] - 0s 1ms/step - loss: 24.3506\n",
      "Epoch 65/100\n",
      "240/240 [==============================] - 0s 1ms/step - loss: 24.1197\n",
      "Epoch 66/100\n",
      "240/240 [==============================] - 0s 1ms/step - loss: 24.2036\n",
      "Epoch 67/100\n",
      "240/240 [==============================] - 0s 1ms/step - loss: 24.4253\n",
      "Epoch 68/100\n",
      "240/240 [==============================] - 0s 1ms/step - loss: 24.6441\n",
      "Epoch 69/100\n",
      "240/240 [==============================] - 0s 1ms/step - loss: 24.3156\n",
      "Epoch 70/100\n",
      "240/240 [==============================] - 0s 1ms/step - loss: 24.9862\n",
      "Epoch 71/100\n",
      "240/240 [==============================] - 0s 1ms/step - loss: 23.8197\n",
      "Epoch 72/100\n",
      "240/240 [==============================] - 0s 1ms/step - loss: 24.3856\n",
      "Epoch 73/100\n",
      "240/240 [==============================] - 0s 1ms/step - loss: 24.4372\n",
      "Epoch 74/100\n",
      "240/240 [==============================] - 0s 1ms/step - loss: 24.0621\n",
      "Epoch 75/100\n",
      "240/240 [==============================] - 0s 1ms/step - loss: 24.3523\n",
      "Epoch 76/100\n",
      "240/240 [==============================] - 0s 1ms/step - loss: 24.0879\n",
      "Epoch 77/100\n",
      "240/240 [==============================] - 0s 1ms/step - loss: 24.2500\n",
      "Epoch 78/100\n",
      "240/240 [==============================] - 0s 1ms/step - loss: 24.4877\n",
      "Epoch 79/100\n",
      "240/240 [==============================] - 0s 1ms/step - loss: 24.4581\n",
      "Epoch 80/100\n",
      "240/240 [==============================] - 0s 1ms/step - loss: 23.9309\n",
      "Epoch 81/100\n",
      "240/240 [==============================] - 0s 1ms/step - loss: 24.1757\n",
      "Epoch 82/100\n",
      "240/240 [==============================] - 0s 1ms/step - loss: 24.3039\n",
      "Epoch 83/100\n",
      "240/240 [==============================] - 0s 1ms/step - loss: 24.2658\n",
      "Epoch 84/100\n",
      "240/240 [==============================] - 0s 1ms/step - loss: 24.2616\n",
      "Epoch 85/100\n",
      "240/240 [==============================] - 0s 1ms/step - loss: 24.6570\n",
      "Epoch 86/100\n",
      "240/240 [==============================] - 0s 1ms/step - loss: 24.0769\n",
      "Epoch 87/100\n",
      "240/240 [==============================] - 0s 1ms/step - loss: 23.9349\n",
      "Epoch 88/100\n",
      "240/240 [==============================] - 0s 1ms/step - loss: 24.5929\n",
      "Epoch 89/100\n",
      "240/240 [==============================] - 0s 1ms/step - loss: 23.8169\n",
      "Epoch 90/100\n",
      "240/240 [==============================] - 0s 1ms/step - loss: 24.3081\n",
      "Epoch 91/100\n",
      "240/240 [==============================] - 0s 1ms/step - loss: 24.5087\n",
      "Epoch 92/100\n",
      "240/240 [==============================] - 0s 1ms/step - loss: 24.6497\n",
      "Epoch 93/100\n",
      "240/240 [==============================] - 0s 1ms/step - loss: 24.2068\n",
      "Epoch 94/100\n",
      "240/240 [==============================] - 0s 1ms/step - loss: 24.3775\n",
      "Epoch 95/100\n",
      "240/240 [==============================] - 0s 1ms/step - loss: 24.1018\n",
      "Epoch 96/100\n",
      "240/240 [==============================] - 0s 1ms/step - loss: 24.6893\n",
      "Epoch 97/100\n",
      "240/240 [==============================] - 0s 1ms/step - loss: 24.9104\n",
      "Epoch 98/100\n",
      "240/240 [==============================] - 0s 1ms/step - loss: 24.2345\n",
      "Epoch 99/100\n",
      "240/240 [==============================] - 0s 1ms/step - loss: 23.9482\n",
      "Epoch 100/100\n",
      "240/240 [==============================] - 0s 1ms/step - loss: 23.8929\n"
     ]
    },
    {
     "data": {
      "text/plain": "<keras.src.callbacks.History at 0x26c7d8d8ac0>"
     },
     "execution_count": 14,
     "metadata": {},
     "output_type": "execute_result"
    }
   ],
   "source": [
    "ann.fit(X_train,y_train,batch_size=32,epochs=100)"
   ],
   "metadata": {
    "collapsed": false,
    "ExecuteTime": {
     "end_time": "2024-01-28T17:53:57.085812600Z",
     "start_time": "2024-01-28T17:53:25.777474500Z"
    }
   }
  },
  {
   "cell_type": "markdown",
   "metadata": {
    "id": "0H0zKKNEBLD5",
    "colab_type": "text"
   },
   "source": [
    "### Predicting the results of the Test set"
   ]
  },
  {
   "cell_type": "code",
   "execution_count": 15,
   "outputs": [
    {
     "name": "stdout",
     "output_type": "stream",
     "text": [
      "60/60 [==============================] - 0s 807us/step\n",
      "[[433.77 431.23]\n",
      " [462.42 460.01]\n",
      " [467.22 461.14]\n",
      " ...\n",
      " [474.3  473.26]\n",
      " [439.   438.  ]\n",
      " [459.39 463.28]]\n"
     ]
    }
   ],
   "source": [
    "y_pred=ann.predict(X_test)\n",
    "np.set_printoptions(precision=2)\n",
    "print(np.concatenate((y_pred.reshape(len(y_pred),1),y_test.reshape(len(y_test),1)),1))"
   ],
   "metadata": {
    "collapsed": false,
    "ExecuteTime": {
     "end_time": "2024-01-28T18:02:37.389989300Z",
     "start_time": "2024-01-28T18:02:37.157022700Z"
    }
   }
  }
 ]
}
